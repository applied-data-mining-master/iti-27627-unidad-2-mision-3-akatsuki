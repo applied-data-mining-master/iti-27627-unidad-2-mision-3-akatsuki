{
 "cells": [
  {
   "cell_type": "markdown",
   "metadata": {},
   "source": [
    "# Exercise 3.03: Illustrating the K-Nearest Neighbors Classifier Algorithm in Matplotlib\n",
    "\n",
    "Suppose we have a list of employee data. Our features are the number of hours worked per week and the yearly salary. Our label indicates whether an employee has stayed with our company for more than 2 years. The length of stay is represented by zero if it is less than 2 years and one if it is greater than or equal to 2 years.\n",
    "\n",
    "We want to create a three-nearest neighbors classifier that determines whether an employee will stay with our company for at least 2 years.\n",
    "\n",
    "Then, we would like to use this classifier to predict whether an employee with a request to work 32 hours a week and earning 52,000 dollars per year is going to stay with the company for 2 years or not.\n",
    "\n",
    "Follow these steps to complete this exercise:"
   ]
  },
  {
   "cell_type": "markdown",
   "metadata": {},
   "source": [
    "1.- Import the pandas package as pd"
   ]
  },
  {
   "cell_type": "code",
   "execution_count": 1,
   "metadata": {},
   "outputs": [],
   "source": [
    "import pandas as pd"
   ]
  },
  {
   "cell_type": "markdown",
   "metadata": {},
   "source": [
    "2.- Create a new variable called file_url(), which will contain the URL to the raw dataset. Use the `data/employees_churned.csv` file"
   ]
  },
  {
   "cell_type": "code",
   "execution_count": 2,
   "metadata": {},
   "outputs": [],
   "source": [
    "file_url = 'https://raw.githubusercontent.com/applied-data-mining-master/syllabus_intelligencesystems/main/data/employees_churned.csv'"
   ]
  },
  {
   "cell_type": "markdown",
   "metadata": {},
   "source": [
    "3.- Load the data using the `pd.read_csv()` method:"
   ]
  },
  {
   "cell_type": "code",
   "execution_count": 3,
   "metadata": {},
   "outputs": [],
   "source": [
    "df = pd.read_csv(file_url)"
   ]
  },
  {
   "cell_type": "markdown",
   "metadata": {},
   "source": [
    "4.- Print the rows of the DataFrame\n",
    "\n",
    "Output:\n",
    "\n",
    "![Figure 3.11](img/fig3_11.jpg)"
   ]
  },
  {
   "cell_type": "code",
   "execution_count": 4,
   "metadata": {},
   "outputs": [
    {
     "data": {
      "text/html": [
       "<div>\n",
       "<style scoped>\n",
       "    .dataframe tbody tr th:only-of-type {\n",
       "        vertical-align: middle;\n",
       "    }\n",
       "\n",
       "    .dataframe tbody tr th {\n",
       "        vertical-align: top;\n",
       "    }\n",
       "\n",
       "    .dataframe thead th {\n",
       "        text-align: right;\n",
       "    }\n",
       "</style>\n",
       "<table border=\"1\" class=\"dataframe\">\n",
       "  <thead>\n",
       "    <tr style=\"text-align: right;\">\n",
       "      <th></th>\n",
       "      <th>hours_worked</th>\n",
       "      <th>salary</th>\n",
       "      <th>over_two_years</th>\n",
       "    </tr>\n",
       "  </thead>\n",
       "  <tbody>\n",
       "    <tr>\n",
       "      <th>0</th>\n",
       "      <td>20</td>\n",
       "      <td>50000</td>\n",
       "      <td>0</td>\n",
       "    </tr>\n",
       "    <tr>\n",
       "      <th>1</th>\n",
       "      <td>24</td>\n",
       "      <td>45000</td>\n",
       "      <td>0</td>\n",
       "    </tr>\n",
       "    <tr>\n",
       "      <th>2</th>\n",
       "      <td>32</td>\n",
       "      <td>48000</td>\n",
       "      <td>0</td>\n",
       "    </tr>\n",
       "    <tr>\n",
       "      <th>3</th>\n",
       "      <td>24</td>\n",
       "      <td>55000</td>\n",
       "      <td>0</td>\n",
       "    </tr>\n",
       "    <tr>\n",
       "      <th>4</th>\n",
       "      <td>40</td>\n",
       "      <td>50000</td>\n",
       "      <td>0</td>\n",
       "    </tr>\n",
       "    <tr>\n",
       "      <th>5</th>\n",
       "      <td>40</td>\n",
       "      <td>62000</td>\n",
       "      <td>1</td>\n",
       "    </tr>\n",
       "    <tr>\n",
       "      <th>6</th>\n",
       "      <td>40</td>\n",
       "      <td>48000</td>\n",
       "      <td>1</td>\n",
       "    </tr>\n",
       "    <tr>\n",
       "      <th>7</th>\n",
       "      <td>32</td>\n",
       "      <td>55000</td>\n",
       "      <td>1</td>\n",
       "    </tr>\n",
       "    <tr>\n",
       "      <th>8</th>\n",
       "      <td>40</td>\n",
       "      <td>72000</td>\n",
       "      <td>1</td>\n",
       "    </tr>\n",
       "    <tr>\n",
       "      <th>9</th>\n",
       "      <td>32</td>\n",
       "      <td>60000</td>\n",
       "      <td>1</td>\n",
       "    </tr>\n",
       "  </tbody>\n",
       "</table>\n",
       "</div>"
      ],
      "text/plain": [
       "   hours_worked  salary  over_two_years\n",
       "0            20   50000               0\n",
       "1            24   45000               0\n",
       "2            32   48000               0\n",
       "3            24   55000               0\n",
       "4            40   50000               0\n",
       "5            40   62000               1\n",
       "6            40   48000               1\n",
       "7            32   55000               1\n",
       "8            40   72000               1\n",
       "9            32   60000               1"
      ]
     },
     "execution_count": 4,
     "metadata": {},
     "output_type": "execute_result"
    }
   ],
   "source": [
    "df"
   ]
  },
  {
   "cell_type": "markdown",
   "metadata": {},
   "source": [
    "5.- Import `preprocessing` from `scikit-learn`"
   ]
  },
  {
   "cell_type": "code",
   "execution_count": 5,
   "metadata": {},
   "outputs": [],
   "source": [
    "from sklearn import preprocessing"
   ]
  },
  {
   "cell_type": "markdown",
   "metadata": {},
   "source": [
    "6.- Instantiate a `MinMaxScaler` with `feature_range=(0,1)` and save it to a variable called `scaler`"
   ]
  },
  {
   "cell_type": "code",
   "execution_count": 6,
   "metadata": {},
   "outputs": [],
   "source": [
    "scaler = preprocessing.MinMaxScaler(feature_range=(0,1))"
   ]
  },
  {
   "cell_type": "markdown",
   "metadata": {},
   "source": [
    "7.- Scale the DataFrame using `.fit_transform()`, save the results in a new variable called `scaled_employees`, and print its content\n",
    "\n",
    "Output:\n",
    "\n",
    "```\n",
    "array([[0.        , 0.18518519, 0.        ],\n",
    "       [0.2       , 0.        , 0.        ],\n",
    "       [0.6       , 0.11111111, 0.        ],\n",
    "       [0.2       , 0.37037037, 0.        ],\n",
    "       [1.        , 0.18518519, 0.        ],\n",
    "       [1.        , 0.62962963, 1.        ],\n",
    "       [1.        , 0.11111111, 1.        ],\n",
    "       [0.6       , 0.37037037, 1.        ],\n",
    "       [1.        , 1.        , 1.        ],\n",
    "       [0.6       , 0.55555556, 1.        ]])\n",
    "```"
   ]
  },
  {
   "cell_type": "code",
   "execution_count": 7,
   "metadata": {},
   "outputs": [
    {
     "data": {
      "text/plain": [
       "array([[0.        , 0.18518519, 0.        ],\n",
       "       [0.2       , 0.        , 0.        ],\n",
       "       [0.6       , 0.11111111, 0.        ],\n",
       "       [0.2       , 0.37037037, 0.        ],\n",
       "       [1.        , 0.18518519, 0.        ],\n",
       "       [1.        , 0.62962963, 1.        ],\n",
       "       [1.        , 0.11111111, 1.        ],\n",
       "       [0.6       , 0.37037037, 1.        ],\n",
       "       [1.        , 1.        , 1.        ],\n",
       "       [0.6       , 0.55555556, 1.        ]])"
      ]
     },
     "execution_count": 7,
     "metadata": {},
     "output_type": "execute_result"
    }
   ],
   "source": [
    "scaled_employees = scaler.fit_transform(df)\n",
    "scaled_employees"
   ]
  },
  {
   "cell_type": "markdown",
   "metadata": {},
   "source": [
    "8.- From the scaled data, extract each of the three columns and save them into three variables called `hours_worked`, `salary`, and `over_two_years`"
   ]
  },
  {
   "cell_type": "code",
   "execution_count": 8,
   "metadata": {},
   "outputs": [],
   "source": [
    "hours_worked = scaled_employees[:, 0]\n",
    "salary = scaled_employees[:, 1]\n",
    "over_two_years = scaled_employees[:, 2]"
   ]
  },
  {
   "cell_type": "markdown",
   "metadata": {},
   "source": [
    "9.- Import the `matplotlib.pyplot` package as `plt`"
   ]
  },
  {
   "cell_type": "code",
   "execution_count": 9,
   "metadata": {},
   "outputs": [],
   "source": [
    "import matplotlib.pyplot as plt"
   ]
  },
  {
   "cell_type": "markdown",
   "metadata": {},
   "source": [
    "10.- Create two scatter plots with `plt.scatter` using `hours_worked` as the x-axis and `salary` as the y-axis, and then create different markers according to the value of `over_two_years`. You can add the labels for the x and y axes with `plt.xlabel` and `plt.ylabel`. Display the scatter plots with `plt.show()`.\n",
    "\n",
    "\n",
    "Output\n",
    "\n",
    "![Figure 3.12](img/fig3_12.jpg)"
   ]
  },
  {
   "cell_type": "code",
   "execution_count": 10,
   "metadata": {},
   "outputs": [
    {
     "data": {
      "image/png": "[encoded data removed]",
      "text/plain": [
       "<Figure size 432x288 with 1 Axes>"
      ]
     },
     "metadata": {
      "needs_background": "light"
     },
     "output_type": "display_data"
    }
   ],
   "source": [
    "plt.scatter(hours_worked[:5], salary[:5], marker='+')\n",
    "plt.scatter(hours_worked[5:], salary[5:], marker='o')\n",
    "plt.xlabel(\"hours_worked\")\n",
    "plt.ylabel(\"salary\")\n",
    "plt.show()"
   ]
  },
  {
   "cell_type": "markdown",
   "metadata": {},
   "source": [
    "we have displayed the data points of the scaled data on a scatter plot. The `+` points represent the employees that stayed less than 2 years, while the `o` ones are for the employees who stayed for more than 2 years.\n",
    "\n",
    "Now, let's say we got a new observation and we want to calculate the Euclidean distance with the data from the scaled dataset."
   ]
  },
  {
   "cell_type": "markdown",
   "metadata": {},
   "source": [
    "11.- Create a new variable called `observation` with the coordinates $(0.5, 0.26)$"
   ]
  },
  {
   "cell_type": "code",
   "execution_count": 11,
   "metadata": {},
   "outputs": [],
   "source": [
    "observation = [0.5, 0.26]"
   ]
  },
  {
   "cell_type": "markdown",
   "metadata": {},
   "source": [
    "12.- Import the `euclidean_distances` function from `sklearn.metrics.pairwise`"
   ]
  },
  {
   "cell_type": "code",
   "execution_count": 12,
   "metadata": {},
   "outputs": [],
   "source": [
    "from sklearn.metrics.pairwise import euclidean_distances"
   ]
  },
  {
   "cell_type": "markdown",
   "metadata": {},
   "source": [
    "13.- Create a new variable called `features`, which will extract the first two columns of the scaled dataset"
   ]
  },
  {
   "cell_type": "code",
   "execution_count": 13,
   "metadata": {},
   "outputs": [],
   "source": [
    "features = scaled_employees[:,:2]"
   ]
  },
  {
   "cell_type": "markdown",
   "metadata": {},
   "source": [
    "14.- Calculate the Euclidean distance between `observation` and `features` using `euclidean_distances`, save it into a variable called `dist`, and print its value\n",
    "\n",
    "Output:\n",
    "\n",
    "```\n",
    "array([[0.50556627, 0.39698866, 0.17935412, 0.3196586 , 0.50556627,\n",
    "        0.62179262, 0.52169714, 0.14893495, 0.89308454, 0.31201456]])\n",
    "```"
   ]
  },
  {
   "cell_type": "code",
   "execution_count": 14,
   "metadata": {},
   "outputs": [
    {
     "data": {
      "text/plain": [
       "array([[0.50556627, 0.39698866, 0.17935412, 0.3196586 , 0.50556627,\n",
       "        0.62179262, 0.52169714, 0.14893495, 0.89308454, 0.31201456]])"
      ]
     },
     "execution_count": 14,
     "metadata": {},
     "output_type": "execute_result"
    }
   ],
   "source": [
    "dist = euclidean_distances([observation], features)\n",
    "dist"
   ]
  },
  {
   "cell_type": "code",
   "execution_count": null,
   "metadata": {},
   "outputs": [],
   "source": []
  }
 ],
 "metadata": {
  "kernelspec": {
   "display_name": "Python 3",
   "language": "python",
   "name": "python3"
  },
  "language_info": {
   "codemirror_mode": {
    "name": "ipython",
    "version": 3
   },
   "file_extension": ".py",
   "mimetype": "text/x-python",
   "name": "python",
   "nbconvert_exporter": "python",
   "pygments_lexer": "ipython3",
   "version": "3.7.4"
  }
 },
 "nbformat": 4,
 "nbformat_minor": 4
}
